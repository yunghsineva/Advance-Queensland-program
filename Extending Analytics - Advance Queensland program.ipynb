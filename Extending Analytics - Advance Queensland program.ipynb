{
 "cells": [
  {
   "attachments": {},
   "cell_type": "markdown",
   "id": "6ef62cbd-2ea0-442e-973e-e50ca1e97fa2",
   "metadata": {
    "cell_name": "header_cell"
   },
   "source": [
    "<div style=\"background:#FFFFEE; color:#440404; padding:8px; border-radius: 4px; text-align: center; font-weight: 500;\">Data Analytics for Strategic Decision Makers </div>"
   ]
  },
  {
   "attachments": {},
   "cell_type": "markdown",
   "id": "ff597d6e-cdac-4d1a-b657-f6d756380ae3",
   "metadata": {
    "cell_name": "title_cell"
   },
   "source": [
    "# Extending Analytics \n"
   ]
  },
  {
   "attachments": {},
   "cell_type": "markdown",
   "id": "24fbcf4f",
   "metadata": {},
   "source": [
    "---\n"
   ]
  },
  {
   "cell_type": "code",
   "execution_count": 2,
   "id": "5151ed70-d1eb-4923-a763-84d4e749f772",
   "metadata": {},
   "outputs": [
    {
     "name": "stderr",
     "output_type": "stream",
     "text": [
      "/tmp/ipykernel_3117/1975265229.py:4: DeprecationWarning: \n",
      "Pyarrow will become a required dependency of pandas in the next major release of pandas (pandas 3.0),\n",
      "(to allow more performant data types, such as the Arrow string type, and better interoperability with other libraries)\n",
      "but was not found to be installed on your system.\n",
      "If this would cause problems for you,\n",
      "please provide us feedback at https://github.com/pandas-dev/pandas/issues/54466\n",
      "        \n",
      "  import pandas as pd\n"
     ]
    }
   ],
   "source": [
    "#import required libraries\n",
    "from sklearn.feature_extraction.text import TfidfVectorizer, CountVectorizer\n",
    "from sklearn.decomposition import LatentDirichletAllocation, NMF\n",
    "import pandas as pd\n",
    "import numpy as np\n",
    "import random\n",
    "import requests\n",
    "import json\n",
    "import re\n",
    "import time\n"
   ]
  },
  {
   "cell_type": "markdown",
   "id": "c6395578-ff80-44d2-8139-40513b5b4bc6",
   "metadata": {},
   "source": [
    "### Summary from the previous data analytics"
   ]
  },
  {
   "cell_type": "markdown",
   "id": "c1c67e3f-d1d9-4657-8fbe-8c5d165b0673",
   "metadata": {},
   "source": [
    "According to the results of the depth (average funding of each program) and breadth (number of projects in each program) research on government investment, the government gave different ways of effort to the development of new enterprises and professional and technical development. To encourage the development of small companies, the government approves a great number of projects in innovative programs. When it comes to the research on university expertise, the government spares no effort to invest money in every difficult project. Further research can be done to investigate their outcomes so that the government can invest more accurately and bring benefits to society. "
   ]
  },
  {
   "cell_type": "markdown",
   "id": "0b6b4cdb-4eb0-4dfb-9f89-032aab4ad6c9",
   "metadata": {},
   "source": [
    "## Question"
   ]
  },
  {
   "attachments": {},
   "cell_type": "markdown",
   "id": "42f17b03-dc6f-439a-ad2f-6ed94219de57",
   "metadata": {},
   "source": [
    "1. According to the result from Assignment 1 Question2, the government invest a huge amount of money in \"UQ - COVID-19 Vaccine\" program. How influential has this program been for society?\n",
    "\n",
    "   \n",
    "Advance Queensland program encourages innovative development and invention research programs. \"UQ - COVID-19 Vaccine\" was the highest funding program among them, which received $10,000,000 in April 2020. Due to the large amount of spending, it is essential to know how was the benefit brought by the program. To discuss the outcome of the program, this analysis will focus on finding the relative evidences to investigate the impact of this program on society in various aspects.  It may involve qualitative or quantitative analysis. For example: how many countries are benefited by this invention?  how many vaccines are successful? how many vaccines are released to people? Did it cause any ethical problems to specific groups? How it contributed to innovative development? "
   ]
  },
  {
   "cell_type": "markdown",
   "id": "bf73eb70-5552-4b6d-afff-ffe81c577208",
   "metadata": {},
   "source": [
    "**To search for relative evidence, this analysis report will use NMF machine learning techniques to conduct an unstructured analysis on text evidence.**"
   ]
  },
  {
   "cell_type": "markdown",
   "id": "c4015dd9-cdd1-4f18-8eea-07fffc621fb9",
   "metadata": {
    "jp-MarkdownHeadingCollapsed": true
   },
   "source": [
    "## Data Cleaning and Preparation"
   ]
  },
  {
   "cell_type": "code",
   "execution_count": 3,
   "id": "991d544c-c5e7-42b1-a8a1-037e4d943fcf",
   "metadata": {},
   "outputs": [
    {
     "name": "stdout",
     "output_type": "stream",
     "text": [
      "Loaded 32 articles from UQ-COVID19.json\n"
     ]
    }
   ],
   "source": [
    "#Load data from JSON file\n",
    "file_path = 'UA2-YungHsin-n11750804'\n",
    "file_name = \"UQ-COVID19.json\"\n",
    "with open(f\"{file_path}/{file_name}\",'r', encoding='utf-8') as fp:\n",
    "    articles = json.load(fp)\n",
    "\n",
    "print(f\"Loaded {len(articles)} articles from {file_name}\")"
   ]
  },
  {
   "cell_type": "markdown",
   "id": "961e50db-a790-4ccf-ae1c-59c873ecc30c",
   "metadata": {},
   "source": [
    "There are 32 articles that may be related to the UQ covid-19 vaccine Program. However, it's time-consuming to go through every article to find evidence manually, and it may also cause to the neglect of the important information by accident. Therefore, selecting the relative article titles first is a good way to extract the most important article more correctly and save time. \n",
    "To do this, I selected 'UQ', 'Vaccine', 'Queensland University' as the title keywords to filter the articles which are most likely talking about this UQ covid-19 vaccine."
   ]
  },
  {
   "cell_type": "code",
   "execution_count": 4,
   "id": "336a4239-f330-4dd4-94f5-954dc20856fb",
   "metadata": {},
   "outputs": [
    {
     "data": {
      "text/plain": [
       "[\"University of Queensland Covid vaccine: the government's pulled the plug so what happens now? [2020-12-11T05:26:11Z]\",\n",
       " '‘Stuffed’: how Australia’s ‘unconscionable’ gamble on Covid vaccines backfired [2021-07-09T20:00:03Z]',\n",
       " \"Church objections to promising Covid-19 vaccine dismissed by Australia's deputy chief medical officer [2020-08-24T09:40:31Z]\",\n",
       " 'Australian production of non-protein Covid-19 vaccine may take an extra year, minister says [2020-10-25T01:22:30Z]',\n",
       " 'From the front to the back of the queue: how Australia’s vaccine rollout unravelled [2021-07-08T17:30:25Z]',\n",
       " 'Australian government announces Covid vaccine deals to provide 84.8m doses [2020-09-06T12:30:24Z]',\n",
       " 'Australian government does deal to secure potential Oxford University Covid vaccine [2020-08-18T12:30:38Z]',\n",
       " 'The race for a Covid vaccine: inside the Australian lab working round the clock to produce 100m doses [2020-10-10T19:00:45Z]',\n",
       " 'Australia lagging on contributions to global body funding Covid vaccine research [2020-08-13T17:30:45Z]',\n",
       " 'From reassurance to shambles: how Australia’s coronavirus vaccine rollout unravelled [2021-04-09T20:00:47Z]',\n",
       " 'Covid-19 vaccines: pressure is on to ensure they go to the most needy, not the highest bidder [2020-04-26T17:30:20Z]']"
      ]
     },
     "execution_count": 4,
     "metadata": {},
     "output_type": "execute_result"
    }
   ],
   "source": [
    "# Change the data to a dataFrame and set 'title' as the column.\n",
    "terms_df = pd.DataFrame(list(articles.keys()), columns=['title'])\n",
    "\n",
    "# Define a list of keywords\n",
    "keywords = ['UQ', 'Vaccine', 'Queensland University']\n",
    "\n",
    "# Build filter conditions to retain titles containing any keyword\n",
    "condition = terms_df['title'].str.contains('|'.join(keywords), case=False)\n",
    "\n",
    "# Update the Dataframe\n",
    "filtered_df = terms_df[condition]\n",
    "\n",
    "# Change to list to see the whole title\n",
    "filtered_titles = filtered_df['title'].tolist()\n",
    "# the contents of articles after filtering\n",
    "filtered_contents = [articles[title] for title in filtered_titles]\n",
    "\n",
    "\n",
    "filtered_titles"
   ]
  },
  {
   "cell_type": "markdown",
   "id": "d398f257-6149-4475-970e-813c40b5c6a6",
   "metadata": {},
   "source": [
    "Regarding the 11 filtered titles, any of them contain the keywords 'UQ' or 'Vaccine' or'Queensland University', which makes the goal of finding evidence more closer."
   ]
  },
  {
   "cell_type": "markdown",
   "id": "e634ab28-e28f-48dc-8a55-3e5e86b510b2",
   "metadata": {},
   "source": [
    "Before conducting the analysis, cleaning redundant words in those article contents is important for further NMF machine learning.\n",
    "For doing this, there are three methods in the cleaning step:\n",
    "1. Excluding stopwords: Removing stop words (EX: \"the\", \"and\", \"is\", etc.), punctuations, and other irrelevant words. (Importing 'nltk' stopwords package first to define stopwords)\n",
    "2. lemmatization: ChatGpt recommend the 'lemmatization' method in 'nltk'（Natural Language Toolkit). It is a process of returning word forms back to their base form, for example, 'eating' to 'eat', 'women' to 'woman'. \n",
    "3. TF-IDF: Weighting important words and reduce the impact of common but irrelevant words.\n",
    "   \n",
    "These cleaning methods can be helpful for building NMF model to increase the weight of meaningful keywords, which is essential for extracting evidence in articles precisely. "
   ]
  },
  {
   "cell_type": "markdown",
   "id": "6a2717ee-49b2-4c6a-8cd6-072df89af0a7",
   "metadata": {},
   "source": [
    "**Excluding stopwords and Lemmatization**"
   ]
  },
  {
   "cell_type": "code",
   "execution_count": 5,
   "id": "3ad1a3b5-d154-4e87-8c58-1f5a1743a75e",
   "metadata": {},
   "outputs": [
    {
     "data": {
      "text/plain": [
       "'The Australian government has terminated its agreement with Australian biotech company CSL Limited t'"
      ]
     },
     "execution_count": 5,
     "metadata": {},
     "output_type": "execute_result"
    }
   ],
   "source": [
    "#the first 100 charactors before cleaning\n",
    "filtered_contents[0][:100]"
   ]
  },
  {
   "cell_type": "code",
   "execution_count": 6,
   "id": "aee2b140-34c8-45d1-97b7-03dc7dbbbf0b",
   "metadata": {},
   "outputs": [
    {
     "name": "stdout",
     "output_type": "stream",
     "text": [
      "Requirement already satisfied: nltk in /opt/conda/lib/python3.10/site-packages (3.8.1)\n",
      "Requirement already satisfied: click in /opt/conda/lib/python3.10/site-packages (from nltk) (8.1.7)\n",
      "Requirement already satisfied: joblib in /opt/conda/lib/python3.10/site-packages (from nltk) (1.3.2)\n",
      "Requirement already satisfied: regex>=2021.8.3 in /opt/conda/lib/python3.10/site-packages (from nltk) (2024.5.15)\n",
      "Requirement already satisfied: tqdm in /opt/conda/lib/python3.10/site-packages (from nltk) (4.66.2)\n"
     ]
    }
   ],
   "source": [
    "!pip install nltk"
   ]
  },
  {
   "cell_type": "code",
   "execution_count": 7,
   "id": "8533bef9-ee63-401c-a320-8ed6a574ae2a",
   "metadata": {},
   "outputs": [],
   "source": [
    "#import stopwords and lemmatization packages form nltk\n",
    "from nltk.corpus import stopwords\n",
    "from nltk.stem import WordNetLemmatizer"
   ]
  },
  {
   "cell_type": "code",
   "execution_count": 8,
   "id": "c7001ed6-52b5-4442-a767-13d9330195e0",
   "metadata": {},
   "outputs": [
    {
     "name": "stderr",
     "output_type": "stream",
     "text": [
      "[nltk_data] Downloading package stopwords to\n",
      "[nltk_data]     /home/n11750804/ifn619/nltk_data...\n",
      "[nltk_data]   Package stopwords is already up-to-date!\n",
      "[nltk_data] Downloading package wordnet to\n",
      "[nltk_data]     /home/n11750804/ifn619/nltk_data...\n",
      "[nltk_data]   Package wordnet is already up-to-date!\n"
     ]
    },
    {
     "data": {
      "text/plain": [
       "True"
      ]
     },
     "execution_count": 8,
     "metadata": {},
     "output_type": "execute_result"
    }
   ],
   "source": [
    "import nltk\n",
    "nltk.download('stopwords')\n",
    "nltk.download('wordnet')"
   ]
  },
  {
   "cell_type": "code",
   "execution_count": 9,
   "id": "7a4abb68-973b-49fe-8c35-357e77964f73",
   "metadata": {},
   "outputs": [],
   "source": [
    "# define the funtion for removing stopwords and conducting lemmatization\n",
    "\n",
    "def clean_text(text):\n",
    "    lemmatizer = WordNetLemmatizer()\n",
    "    stop_words = set(stopwords.words('english'))\n",
    "    \n",
    "    text = re.sub(r'\\W', ' ', text)  # removing non-word\n",
    "    text = re.sub(r'\\s+', ' ', text)  # removing space\n",
    "    text = text.lower()  # change words to lower cases\n",
    "    \n",
    "    words = text.split()\n",
    "    words = [lemmatizer.lemmatize(word) for word in words if word not in stop_words]  #lemmatization\n",
    "    \n",
    "    return ' '.join(words)"
   ]
  },
  {
   "cell_type": "code",
   "execution_count": 10,
   "id": "cb20e987-f247-4e45-8779-6702c9981f2f",
   "metadata": {},
   "outputs": [],
   "source": [
    "#Apply the function to all the contents\n",
    "filtered_contents = [clean_text(content) for content in filtered_contents]"
   ]
  },
  {
   "cell_type": "code",
   "execution_count": 11,
   "id": "2c46cbdd-9653-46e7-b382-8de057ec410d",
   "metadata": {},
   "outputs": [
    {
     "data": {
      "text/plain": [
       "'australian government terminated agreement australian biotech company csl limited supply 51m dos cov'"
      ]
     },
     "execution_count": 11,
     "metadata": {},
     "output_type": "execute_result"
    }
   ],
   "source": [
    "#the first 100 charactors after cleaning\n",
    "filtered_contents[0][:100]"
   ]
  },
  {
   "cell_type": "markdown",
   "id": "1e0d88e2-c950-4280-8ae8-db2ebcf6de48",
   "metadata": {},
   "source": [
    "Comparing the first 100 characters before and after cleaning, it shows that all the words have changed to lowercase and there are no prepositions and possessives."
   ]
  },
  {
   "cell_type": "markdown",
   "id": "beec5dc3-6416-482d-a6d3-afd86671540c",
   "metadata": {},
   "source": [
    "**Term Frequency / Inverse Document Frequency (TF/IDF)**"
   ]
  },
  {
   "cell_type": "markdown",
   "id": "4785d78c-6bc9-49c7-b670-381d4e5aa3d5",
   "metadata": {},
   "source": [
    "Since the number of articles is not much, it is appropriate to set 'max_df' to 0.75 or higher. This avoids excluding keywords that may appear repeatedly in most articles. 'min_df' can be set to 2, which means that only words that appear in at least 2 articles will be considered. This helps eliminate words that appear only in one article, which may be noise or not important. Even if the number of documents is small, I set a larger max_features value to include more words. Doing so can retain more information, especially some specialized words for COVID-19 vaccines, leading to analysis results that are more relevant to the topic."
   ]
  },
  {
   "cell_type": "code",
   "execution_count": 12,
   "id": "90167b41-06d5-4942-aa39-3e563bc22486",
   "metadata": {},
   "outputs": [],
   "source": [
    "# Set parameters appropriate to your data\n",
    "vectorizer = TfidfVectorizer(max_df=0.75, min_df=2, max_features=10000, stop_words=\"english\")\n",
    "# Get the document vectors\n",
    "tfidf_matrix = vectorizer.fit_transform(filtered_contents)"
   ]
  },
  {
   "cell_type": "code",
   "execution_count": 13,
   "id": "c29504e5-f2ff-4541-b3c8-761c017cff90",
   "metadata": {},
   "outputs": [
    {
     "data": {
      "text/plain": [
       "['hiv',\n",
       " 'researcher',\n",
       " 'trial',\n",
       " 'participant',\n",
       " 'protein',\n",
       " 'molecular',\n",
       " 'clamp',\n",
       " 'immune',\n",
       " 'response',\n",
       " 'unit']"
      ]
     },
     "execution_count": 13,
     "metadata": {},
     "output_type": "execute_result"
    }
   ],
   "source": [
    "# list of feature names\n",
    "feature_names = vectorizer.get_feature_names_out()\n",
    "# get the vector for the first document\n",
    "\n",
    "first_document_vector = tfidf_matrix[0].toarray()\n",
    "\n",
    "# get the top 10 weighting index\n",
    "top_indices = first_document_vector.argsort()[0][-10:][::-1]\n",
    "\n",
    "# convert to related words\n",
    "top_words = [feature_names[index] for index in top_indices]\n",
    "top_words"
   ]
  },
  {
   "cell_type": "markdown",
   "id": "2c7ad025-d79e-4d0d-b9c3-e04bccfa0047",
   "metadata": {},
   "source": [
    "The results above show the top 10 important keywords for the first article. We can see some specialized medical words, such as 'hiv', 'protein', 'immune', which indicates that TF-IDF has weighted the important words in articles. Next, NMF machine learning model can be build based on the TF-IDF keywords results to identify the topics within the articles."
   ]
  },
  {
   "cell_type": "markdown",
   "id": "4ae9a723-5fbf-4640-871f-e4ebd5645112",
   "metadata": {
    "jp-MarkdownHeadingCollapsed": true
   },
   "source": [
    "## Topic modelling with Non-negative Matrix Factorisation (NMF)"
   ]
  },
  {
   "cell_type": "markdown",
   "id": "96cc55e8-3c5d-4c72-8fd4-2160350b900e",
   "metadata": {},
   "source": [
    "Using NMF model is to categorize the articles into different topics. Doing so is to select the most important articles precisely and comprehensively. Due to the small number of articles (11), I set the number of topics to 3 to ensure that the model is interpretable and will not be overfitting. Then, after building the model, I will choose one article from each topic to do a deeper context research."
   ]
  },
  {
   "cell_type": "code",
   "execution_count": 14,
   "id": "da27080d-aae9-4ac1-8058-7d4035d94cc9",
   "metadata": {},
   "outputs": [],
   "source": [
    "# Set the number of topics\n",
    "num_topics = 3\n",
    "\n",
    "# Create the model\n",
    "# 'random_state =42' let the outcome stay the same for every execution\n",
    "nmf_model = NMF(n_components=num_topics, max_iter=200, init='random', random_state =42, beta_loss='frobenius')\n",
    "\n",
    "# Fit the model to the data and use it to transform the data from tf-idf\n",
    "doc_topic_nmf = nmf_model.fit_transform(tfidf_matrix)\n",
    "\n",
    "# Ensure doc_topic_matrix and filtered_titles have the same length\n",
    "assert len(doc_topic_nmf) == len(filtered_titles)\n",
    "\n",
    "topic_term_nmf = nmf_model.components_"
   ]
  },
  {
   "cell_type": "code",
   "execution_count": 15,
   "id": "048f223a-caf0-4b04-8fa8-0b3cfd86284e",
   "metadata": {},
   "outputs": [],
   "source": [
    "# list of feature names\n",
    "feature_names = vectorizer.get_feature_names_out()\n",
    "\n",
    "# Get the topics and their terms\n",
    "nmf_topic_dict = {}\n",
    "for index, topic in enumerate(topic_term_nmf):\n",
    "    zipped = zip(feature_names, topic)\n",
    "    top_terms=dict(sorted(zipped, key = lambda t: t[1], reverse=True)[:30]) #30 highest weighting keywords\n",
    "    nmf_topic_dict[f\"topic_{index}\"] = top_terms"
   ]
  },
  {
   "cell_type": "code",
   "execution_count": 16,
   "id": "56c19adf-3117-4fe5-a278-738bf6f4b6ce",
   "metadata": {},
   "outputs": [
    {
     "name": "stderr",
     "output_type": "stream",
     "text": [
      "/tmp/ipykernel_3117/2800578007.py:6: FutureWarning: ChainedAssignmentError: behaviour will change in pandas 3.0!\n",
      "You are setting values through chained assignment. Currently this works in certain cases, but when using Copy-on-Write (which will become the default behaviour in pandas 3.0) this will never work to update the original DataFrame or Series, because the intermediate object on which we are setting values will behave as a copy.\n",
      "A typical example is when you are setting values in a column of a DataFrame, like:\n",
      "\n",
      "df[\"col\"][row_indexer] = value\n",
      "\n",
      "Use `df.loc[row_indexer, \"col\"] = values` instead, to perform the assignment in a single step and ensure this keeps updating the original `df`.\n",
      "\n",
      "See the caveats in the documentation: https://pandas.pydata.org/pandas-docs/stable/user_guide/indexing.html#returning-a-view-versus-a-copy\n",
      "\n",
      "  terms_df['NMF'].iloc[idx] = list(top_topic.keys())\n"
     ]
    },
    {
     "data": {
      "text/html": [
       "<div>\n",
       "<style scoped>\n",
       "    .dataframe tbody tr th:only-of-type {\n",
       "        vertical-align: middle;\n",
       "    }\n",
       "\n",
       "    .dataframe tbody tr th {\n",
       "        vertical-align: top;\n",
       "    }\n",
       "\n",
       "    .dataframe thead th {\n",
       "        text-align: right;\n",
       "    }\n",
       "</style>\n",
       "<table border=\"1\" class=\"dataframe\">\n",
       "  <thead>\n",
       "    <tr style=\"text-align: right;\">\n",
       "      <th></th>\n",
       "      <th>NMF</th>\n",
       "    </tr>\n",
       "  </thead>\n",
       "  <tbody>\n",
       "    <tr>\n",
       "      <th>University of Queensland Covid vaccine: the government's pulled the plug so what happens now? [2020-12-11T05:26:11Z]</th>\n",
       "      <td>[cell, protein, spike, human, hiv, line, trial...</td>\n",
       "    </tr>\n",
       "    <tr>\n",
       "      <th>‘Stuffed’: how Australia’s ‘unconscionable’ gamble on Covid vaccines backfired [2021-07-09T20:00:03Z]</th>\n",
       "      <td>[pfizer, dos, rollout, march, vaccination, jul...</td>\n",
       "    </tr>\n",
       "    <tr>\n",
       "      <th>Church objections to promising Covid-19 vaccine dismissed by Australia's deputy chief medical officer [2020-08-24T09:40:31Z]</th>\n",
       "      <td>[cell, protein, spike, human, hiv, line, trial...</td>\n",
       "    </tr>\n",
       "    <tr>\n",
       "      <th>Australian production of non-protein Covid-19 vaccine may take an extra year, minister says [2020-10-25T01:22:30Z]</th>\n",
       "      <td>[cell, protein, spike, human, hiv, line, trial...</td>\n",
       "    </tr>\n",
       "    <tr>\n",
       "      <th>From the front to the back of the queue: how Australia’s vaccine rollout unravelled [2021-07-08T17:30:25Z]</th>\n",
       "      <td>[pfizer, dos, rollout, march, vaccination, jul...</td>\n",
       "    </tr>\n",
       "    <tr>\n",
       "      <th>Australian government announces Covid vaccine deals to provide 84.8m doses [2020-09-06T12:30:24Z]</th>\n",
       "      <td>[development, contribution, funding, oxford, d...</td>\n",
       "    </tr>\n",
       "    <tr>\n",
       "      <th>Australian government does deal to secure potential Oxford University Covid vaccine [2020-08-18T12:30:38Z]</th>\n",
       "      <td>[development, contribution, funding, oxford, d...</td>\n",
       "    </tr>\n",
       "    <tr>\n",
       "      <th>The race for a Covid vaccine: inside the Australian lab working round the clock to produce 100m doses [2020-10-10T19:00:45Z]</th>\n",
       "      <td>[cell, protein, spike, human, hiv, line, trial...</td>\n",
       "    </tr>\n",
       "    <tr>\n",
       "      <th>Australia lagging on contributions to global body funding Covid vaccine research [2020-08-13T17:30:45Z]</th>\n",
       "      <td>[development, contribution, funding, oxford, d...</td>\n",
       "    </tr>\n",
       "    <tr>\n",
       "      <th>From reassurance to shambles: how Australia’s coronavirus vaccine rollout unravelled [2021-04-09T20:00:47Z]</th>\n",
       "      <td>[pfizer, dos, rollout, march, vaccination, jul...</td>\n",
       "    </tr>\n",
       "    <tr>\n",
       "      <th>Covid-19 vaccines: pressure is on to ensure they go to the most needy, not the highest bidder [2020-04-26T17:30:20Z]</th>\n",
       "      <td>[development, contribution, funding, oxford, d...</td>\n",
       "    </tr>\n",
       "  </tbody>\n",
       "</table>\n",
       "</div>"
      ],
      "text/plain": [
       "                                                                                                  NMF\n",
       "University of Queensland Covid vaccine: the gov...  [cell, protein, spike, human, hiv, line, trial...\n",
       "‘Stuffed’: how Australia’s ‘unconscionable’ gam...  [pfizer, dos, rollout, march, vaccination, jul...\n",
       "Church objections to promising Covid-19 vaccine...  [cell, protein, spike, human, hiv, line, trial...\n",
       "Australian production of non-protein Covid-19 v...  [cell, protein, spike, human, hiv, line, trial...\n",
       "From the front to the back of the queue: how Au...  [pfizer, dos, rollout, march, vaccination, jul...\n",
       "Australian government announces Covid vaccine d...  [development, contribution, funding, oxford, d...\n",
       "Australian government does deal to secure poten...  [development, contribution, funding, oxford, d...\n",
       "The race for a Covid vaccine: inside the Austra...  [cell, protein, spike, human, hiv, line, trial...\n",
       "Australia lagging on contributions to global bo...  [development, contribution, funding, oxford, d...\n",
       "From reassurance to shambles: how Australia’s c...  [pfizer, dos, rollout, march, vaccination, jul...\n",
       "Covid-19 vaccines: pressure is on to ensure the...  [development, contribution, funding, oxford, d..."
      ]
     },
     "execution_count": 16,
     "metadata": {},
     "output_type": "execute_result"
    }
   ],
   "source": [
    "# Create a dataframe to hold top terms and each title for the further articles searching \n",
    "terms_df = pd.DataFrame(index=filtered_titles,columns=['NMF'])\n",
    "for idx,topic in enumerate(doc_topic_nmf):\n",
    "    topic_num = topic.argmax()\n",
    "    top_topic = nmf_topic_dict[f\"topic_{topic_num}\"]\n",
    "    terms_df['NMF'].iloc[idx] = list(top_topic.keys())\n",
    "\n",
    "terms_df"
   ]
  },
  {
   "cell_type": "markdown",
   "id": "0d6dbd93-d2e4-4ca4-81b2-857419be405e",
   "metadata": {},
   "source": [
    "**NMF Visualization (Title-Topic Heatmap)**"
   ]
  },
  {
   "cell_type": "code",
   "execution_count": 17,
   "id": "5d1830d8-c5e6-4f2e-b337-8ff3657abcf6",
   "metadata": {},
   "outputs": [
    {
     "data": {
      "image/png": "[encoded data removed]",
      "text/plain": [
       "<Figure size 1000x800 with 2 Axes>"
      ]
     },
     "metadata": {},
     "output_type": "display_data"
    }
   ],
   "source": [
    "import seaborn as sns\n",
    "import matplotlib.pyplot as plt\n",
    "\n",
    "plt.figure(figsize=(10, 8))\n",
    "sns.heatmap(doc_topic_nmf, annot=True, fmt=\".2f\", cmap='YlGnBu')\n",
    "plt.title(\"Title-Topic Heatmap\")\n",
    "plt.xlabel(\"Topics\")\n",
    "plt.ylabel(\"Title\")\n",
    "plt.show()\n"
   ]
  },
  {
   "cell_type": "markdown",
   "id": "befb0baa-53f5-40cf-bc7f-5416f83a43dc",
   "metadata": {},
   "source": [
    "The heat map shows the distribution between topics and titles. The higher the values, the more related between the title and the topic. To do comprehensive research, I chose the title with the highest correlation in each topic, which are title 9 in topic0, title 6 in topic 1 and title 7 in topic2."
   ]
  },
  {
   "cell_type": "markdown",
   "id": "6e412769-178f-4696-b5bb-bfb25c0a7edd",
   "metadata": {},
   "source": [
    "## Unstructured data analysis"
   ]
  },
  {
   "cell_type": "code",
   "execution_count": 18,
   "id": "4625afc0-2d4c-40ad-8af9-74d7b277dde6",
   "metadata": {},
   "outputs": [
    {
     "name": "stdout",
     "output_type": "stream",
     "text": [
      "[6] Australian government does deal to secure potential Oxford University Covid vaccine [2020-08-18T12:30:38Z]\n",
      "\t- NMF:\t\t ['development', 'contribution', 'funding', 'oxford', 'discussion', 'country', 'agreement', 'commitment', 'contract', 'international', 'research', 'billion', 'global', 'sufficient', 'coalition', 'epidemic', 'support', 'distribution', 'licence', 'share', 'local', 'organisation', 'investment', 'fund', '2m', 'capacity', 'trial', 'including', 'coronavirus', 'continuing']\n",
      "\n",
      "[7] The race for a Covid vaccine: inside the Australian lab working round the clock to produce 100m doses [2020-10-10T19:00:45Z]\n",
      "\t- NMF:\t\t ['cell', 'protein', 'spike', 'human', 'hiv', 'line', 'trial', 'immune', 'process', 'manufacturing', 'step', 'virus', 'researcher', 'nash', 'unit', 'response', 'people', 'phase', 'clamp', 'team', 'molecular', 'way', 'use', 'participant', 'andrew', 'year', 'issue', 'lot', 'letter', 'best']\n",
      "\n",
      "[9] From reassurance to shambles: how Australia’s coronavirus vaccine rollout unravelled [2021-04-09T20:00:47Z]\n",
      "\t- NMF:\t\t ['pfizer', 'dos', 'rollout', 'march', 'vaccination', 'july', '000', 'february', 'hunt', 'april', 'eu', 'aged', 'care', 'week', 'january', 'announces', '2021', 'june', 'worker', 'plan', 'deal', 'lockdown', 'target', 'vaccinated', 'country', 'agreement', 'shipment', 'october', '8m', 'european']\n",
      "\n"
     ]
    }
   ],
   "source": [
    "indexes = [6, 7, 9]\n",
    "\n",
    "# print the list of titles and thier keywords\n",
    "for index in indexes:\n",
    "    doc = terms_df.iloc[index]\n",
    "    print(f\"[{index}] {doc.name}\") \n",
    "    print(\"\\t- NMF:\\t\\t\", doc['NMF'])  \n",
    "    print()\n"
   ]
  },
  {
   "cell_type": "markdown",
   "id": "9c658395-9f27-48f0-88fb-1eb6bef3862d",
   "metadata": {},
   "source": [
    "The keywords of each title represent the top terms of each topic. From the terms of the first title, it seems the discussion about the international agreement and investment of vaccine. The second one indicates some medical words such as ' immune', 'hiv' and 'trial' etc, which may be talking about the techniques of covid vaccine. The last one involves many words about numbers and months, which may describe the vaccine rollout timeline. However, it is not clear enough with these keywords. Therefore, several steps are conducted to reveal the most important context of each article."
   ]
  },
  {
   "cell_type": "code",
   "execution_count": 19,
   "id": "1bca0440-f77a-4e52-badc-6e44e2286526",
   "metadata": {},
   "outputs": [],
   "source": [
    "selected_titles = [\n",
    "    \"Australian government does deal to secure potential Oxford University Covid vaccine [2020-08-18T12:30:38Z]\",\n",
    "    \"The race for a Covid vaccine: inside the Australian lab working round the clock to produce 100m doses [2020-10-10T19:00:45Z]\",\n",
    "    \"From reassurance to shambles: how Australia’s coronavirus vaccine rollout unravelled [2021-04-09T20:00:47Z]\"\n",
    "]"
   ]
  },
  {
   "cell_type": "code",
   "execution_count": 20,
   "id": "154fc29b-679a-4de1-add8-40202dc06f36",
   "metadata": {},
   "outputs": [],
   "source": [
    "# Get the content with corresponding titles\n",
    "selected_contents = [articles[title] for title in selected_titles]"
   ]
  },
  {
   "cell_type": "markdown",
   "id": "c290efb9-584f-490a-9a0d-8d094bc5623b",
   "metadata": {},
   "source": [
    "Since each article is very lengthy, I asked chatgpt to teach me the methods to find sentences about 'uq', 'Queensland University', 'University of Queensland' or 'covid' from the article, including 2-3 sentences of its context and excluding duplicate sentence. This way can help me quickly find sentences related to this program."
   ]
  },
  {
   "cell_type": "code",
   "execution_count": 21,
   "id": "9b62f42d-8388-4dd9-ad28-fb4f38aed43f",
   "metadata": {
    "scrolled": true
   },
   "outputs": [
    {
     "name": "stdout",
     "output_type": "stream",
     "text": [
      "A statement from CSL said: “Development of the UQ vaccine candidate remains CSL’s priority, however, we are currently in discussions with AstraZeneca and the Australian government to assess whether it is possible to provide local manufacturing support for the Oxford University/AstraZeneca vaccine, should it prove successful, while protecting our commitment to the UQ vaccine. “We are assessing the viability of options ranging from the fill and finish of bulk product imported to Australia through to manufacture of the vaccine candidate under licence. There are a number of technical issues to work through and discussions are ongoing.” With the government signalling over the weekend that a deal on a vaccine was close, Labor said Morrison should increase the funding available to Australian researchers. “There absolutely should be more commonwealth funding, and $5m to the University of Queensland is not enough when you consider that the government of Queensland is putting [in] $10m,” the shadow health minister, Chris Bowen, said. Related: Sydney security guard contracts Covid prompting call to replace guards with nurses at quarantine hotels    “The state government is putting in double what the national government has done and there are other vaccines under development in Australia with zero government support and funding for Covid-19. Some of those may work.” Morrison has been stepping up public warnings in recent weeks that countries need to share any vaccine against the coronavirus that is found to be successful and safe through clinical trials. While declining to nominate which country or countries he might be referring to, the prime minister has said: “Any country that were to find this vaccine and not make it available around the world, without restraint, I think would be judged terribly by history and that’s certainly Australia’s view.” As well as working to secure supply for Australia, the government says it will work to ensure the Pacific and countries in south-east Asia have early access to a Covid vaccine.\n",
      "\n",
      "\n",
      "The total cost of the program is likely to be in the billions of dollars. The government says the initial agreements will cover vaccine development, production and distribution, and it will contain a commitment to produce the vaccine locally. Subsequent agreements will include distribution, timing and the price of the vaccine. Related: Australia lagging on contributions to global body funding Covid vaccine research    Australia’s largest biotechnology company, CSL, has confirmed it is in discussions with AstraZeneca and the government concerning local production of the Oxford vaccine, as well as continuing work on another candidate under development at the University of Queensland. A statement from CSL said: “Development of the UQ vaccine candidate remains CSL’s priority, however, we are currently in discussions with AstraZeneca and the Australian government to assess whether it is possible to provide local manufacturing support for the Oxford University/AstraZeneca vaccine, should it prove successful, while protecting our commitment to the UQ vaccine. “We are assessing the viability of options ranging from the fill and finish of bulk product imported to Australia through to manufacture of the vaccine candidate under licence. There are a number of technical issues to work through and discussions are ongoing.” With the government signalling over the weekend that a deal on a vaccine was close, Labor said Morrison should increase the funding available to Australian researchers.\n",
      "\n",
      "\n",
      "The government says the initial agreements will cover vaccine development, production and distribution, and it will contain a commitment to produce the vaccine locally. Subsequent agreements will include distribution, timing and the price of the vaccine. Related: Australia lagging on contributions to global body funding Covid vaccine research    Australia’s largest biotechnology company, CSL, has confirmed it is in discussions with AstraZeneca and the government concerning local production of the Oxford vaccine, as well as continuing work on another candidate under development at the University of Queensland. A statement from CSL said: “Development of the UQ vaccine candidate remains CSL’s priority, however, we are currently in discussions with AstraZeneca and the Australian government to assess whether it is possible to provide local manufacturing support for the Oxford University/AstraZeneca vaccine, should it prove successful, while protecting our commitment to the UQ vaccine. “We are assessing the viability of options ranging from the fill and finish of bulk product imported to Australia through to manufacture of the vaccine candidate under licence. There are a number of technical issues to work through and discussions are ongoing.” With the government signalling over the weekend that a deal on a vaccine was close, Labor said Morrison should increase the funding available to Australian researchers. “There absolutely should be more commonwealth funding, and $5m to the University of Queensland is not enough when you consider that the government of Queensland is putting [in] $10m,” the shadow health minister, Chris Bowen, said.\n",
      "\n",
      "\n"
     ]
    }
   ],
   "source": [
    "def find_sentences_with_context(text, keywords, context_size=3):\n",
    "    sentences = re.split(r'(?<=[.!?]) +', text)  \n",
    "    keyword_indices = [i for i, sentence in enumerate(sentences) if any(keyword.lower() in sentence.lower() for keyword in keywords)]\n",
    "    keyword_sentences_with_context = set()  \n",
    "    \n",
    "    for index in keyword_indices:\n",
    "        start = max(0, index - context_size)\n",
    "        end = min(len(sentences), index + context_size + 1)\n",
    "        context = ' '.join(sentences[start:end])\n",
    "        keyword_sentences_with_context.add(context) \n",
    "    \n",
    "    return list(keyword_sentences_with_context)\n",
    "\n",
    "\n",
    "initial_keywords = ['uq', 'Queensland University', 'University of Queensland']\n",
    "initial_contexts = find_sentences_with_context(selected_contents[0], initial_keywords)\n",
    "\n",
    "\n",
    "for context in initial_contexts:\n",
    "    print(context)\n",
    "    print(\"\\n\")"
   ]
  },
  {
   "cell_type": "markdown",
   "id": "bf1446b1-a771-4472-8c4d-4ef53815e750",
   "metadata": {},
   "source": [
    "According to the content, this article describes that Australia’s largest biotechnology company, CSL, was supporting the invention of UQ vaccine and they were discussing with governments whether it is possible to provide local manufacturing support for the other two vaccines (Oxford University/AstraZeneca). Furthermore, the Australia government says it will work to ensure the Pacific and countries in Southeast Asia have early access to a Covid vaccine."
   ]
  },
  {
   "cell_type": "code",
   "execution_count": 22,
   "id": "24f33c25-bc0c-40eb-a836-2a5f50fca808",
   "metadata": {
    "scrolled": true
   },
   "outputs": [
    {
     "name": "stdout",
     "output_type": "stream",
     "text": [
      "The result? A broth that, once purified and combined with an immune booster, could help end the Covid-19 crisis as we know it. For months, much hope has rested on the vaccine technology developed by the University of Queensland, which has produced a version of the virus unable to use its crown – or corona – of spikes to attach to target cells inside the human body. But if hopes are realised and the UQ vaccine is found to be safe and effective, what next?\n",
      "\n",
      "\n",
      "“Ultimately you have to scale up the growth of those [Chinese hamster ovary] cells to a very large volume so you can produce sufficient quantities,” CSL’s chief scientist, Andrew Nash, explains. “So in our case you end up in a 2,000L bioreactor.”   Related: Will a vaccine or recovery from the virus give us long-term immunity to Covid-19? The cells grow continuously for about 12 days, all the while producing the spike protein so crucial to the UQ vaccine. Once the 2,000L reactor is full, it is harvested and purified.\n",
      "\n",
      "\n",
      "UQ has effectively taken the Covid-19 genetic sequence, isolated the section that codes for the spike protein, and changed that sequence to include a clamp that locks three spike proteins together in the form they exist in before they try to bind with human cells. The upshot? The body gets all the immune response with none of the infection and is vaccinated against future Covid-19 infection.\n",
      "\n",
      "\n",
      "The upshot? The body gets all the immune response with none of the infection and is vaccinated against future Covid-19 infection. The process for manufacturing the UQ vaccine begins when CSL receives the DNA that codes for the modified spike proteins. The DNA is then introduced into mammalian cells – most often a cell line originally derived from the ovary of a single Chinese hamster – and placed into the bioreactors at CSL’s facility.\n",
      "\n",
      "\n",
      "A broth that, once purified and combined with an immune booster, could help end the Covid-19 crisis as we know it. For months, much hope has rested on the vaccine technology developed by the University of Queensland, which has produced a version of the virus unable to use its crown – or corona – of spikes to attach to target cells inside the human body. But if hopes are realised and the UQ vaccine is found to be safe and effective, what next?\n",
      "\n",
      "\n",
      "The manufacturing of the UQ vaccine – a type of recombinant protein vaccine – is not anything CSL hasn’t done before. The scale of production needed, while immense, is also well within CSL’s capacity. CSL estimates it can produce 100m doses of a Covid-19 vaccine by the end of next year.\n",
      "\n",
      "\n",
      "Once attached, the spike transforms and unfolds, hooking into the cell and crashing the virus particle and cell together, forming a channel through which a string of viral genetic material can pass into the human cell. When the body’s immune system fires up to combat the virus, much of its effort goes toward that spike protein. UQ has effectively taken the Covid-19 genetic sequence, isolated the section that codes for the spike protein, and changed that sequence to include a clamp that locks three spike proteins together in the form they exist in before they try to bind with human cells. The upshot? The body gets all the immune response with none of the infection and is vaccinated against future Covid-19 infection.\n",
      "\n",
      "\n"
     ]
    }
   ],
   "source": [
    "def find_sentences_with_context(text, keywords, context_size=2):\n",
    "    sentences = re.split(r'(?<=[.!?]) +', text)  \n",
    "    keyword_indices = [i for i, sentence in enumerate(sentences) if any(keyword.lower() in sentence.lower() for keyword in keywords)]\n",
    "    keyword_sentences_with_context = set() \n",
    "    \n",
    "    for index in keyword_indices:\n",
    "        start = max(0, index - context_size)\n",
    "        end = min(len(sentences), index + context_size + 1)\n",
    "        context = ' '.join(sentences[start:end])\n",
    "        keyword_sentences_with_context.add(context)  \n",
    "    \n",
    "    return list(keyword_sentences_with_context) \n",
    "\n",
    "#\n",
    "initial_keywords = ['uq', 'Queensland University', 'University of Queensland']\n",
    "initial_contexts = find_sentences_with_context(selected_contents[1], initial_keywords)\n",
    "\n",
    "# search 'covid-19' from the initial_contexts to make the result precise\n",
    "final_keywords = ['covid-19']\n",
    "final_contexts = set()  #\n",
    "for context in initial_contexts:\n",
    "    more_contexts = find_sentences_with_context(context, final_keywords)\n",
    "    final_contexts.update(more_contexts)  \n",
    "\n",
    "for context in final_contexts:\n",
    "    print(context)\n",
    "    print(\"\\n\")"
   ]
  },
  {
   "cell_type": "markdown",
   "id": "ecd6e4bc-02f9-478b-9fe5-7b609c5af363",
   "metadata": {},
   "source": [
    "This paragraph describes the production process and technical features of the UQ Covid-19 vaccine. UQ vaccine is a recombinant protein vaccine that uses innovative \"clamping\" technology on the spike proteins produced by CSL. This method induces immune responses without actual infection. The content also indicates that it is an extremely large scale and is estimated to be able to produce 100 million doses of a COVID-19 vaccine by the end of next year. "
   ]
  },
  {
   "cell_type": "code",
   "execution_count": 23,
   "id": "b4f58a0a-9ac5-4129-9db9-7823f3186dc7",
   "metadata": {},
   "outputs": [
    {
     "name": "stdout",
     "output_type": "stream",
     "text": [
      "\n",
      "Australia would also gain access to 25.5m doses of a successful vaccine candidate through the Covax facility – a global initiative to support research, development and production of vaccines. \n",
      "November \n",
      "5 November: The government announces it will purchase a further 50m doses of two other vaccines, contingent on their formulas being proved safe and effective – 40m from Novavax and 10m doses from Pfizer. \n",
      "Morrison says: “We aren’t putting all our eggs in one basket and we will continue to pursue further vaccines should our medical experts recommend them.” \n",
      "December \n",
      "2 December: The British regulator rules the the Pfizer vaccine is safe for use, and by 8 December, the UK administers the first post-trial dose of the Pfizer vaccine in the world. \n",
      "11 December: The UQ trials are abandoned after participants returned false positive test results for HIV, and the government terminates its agreement for the 51m doses it had ordered. \n",
      "As a result, Australia plans to increase its reliance on the AstraZeneca vaccine, from 33.8m to 53.8m doses, with the extra 20m to be locally produced. It also announces an extra 11 million doses of the Novavax vaccine. \n",
      "With purchase agreements in place for 140m doses, health minister Greg Hunt says Australia is “in a strong position”.\n",
      "\n",
      "\n",
      "\n",
      "September \n",
      "7 September: Scott Morrison announces Australia’s first vaccine deals, before any Covid-19 vaccines had finished final-stage testing or had been approved for use. \n",
      "Morrison said Australia would buy 33.8m doses of the AstraZeneca vaccine, which was still being developed at Oxford University. He said 3.8m would be imported, as early as January, with the remainder to be manufactured by CSL in Melbourne. \n",
      "This announcement also included an intention to purchase 51m doses of the formula being developed at the University of Queensland. Both deals were contingent on the formulas passing trials. \n",
      "Australia would also gain access to 25.5m doses of a successful vaccine candidate through the Covax facility – a global initiative to support research, development and production of vaccines. \n",
      "November \n",
      "5 November: The government announces it will purchase a further 50m doses of two other vaccines, contingent on their formulas being proved safe and effective – 40m from Novavax and 10m doses from Pfizer.\n",
      "\n",
      "\n"
     ]
    }
   ],
   "source": [
    "def find_sentences_with_context(text, keywords, context_size=3):\n",
    "    sentences = re.split(r'(?<=[.!?]) +', text) \n",
    "    keyword_indices = [i for i, sentence in enumerate(sentences) if any(keyword.lower() in sentence.lower() for keyword in keywords)]\n",
    "    keyword_sentences_with_context = set()  \n",
    "    \n",
    "    for index in keyword_indices:\n",
    "        start = max(0, index - context_size)\n",
    "        end = min(len(sentences), index + context_size + 1)\n",
    "        context = ' '.join(sentences[start:end])\n",
    "        keyword_sentences_with_context.add(context)  \n",
    "    \n",
    "    return list(keyword_sentences_with_context)\n",
    "\n",
    "\n",
    "initial_keywords = ['uq', 'Queensland University', 'University of Queensland']\n",
    "initial_contexts = find_sentences_with_context(selected_contents[2], initial_keywords)\n",
    "\n",
    "\n",
    "for context in initial_contexts:\n",
    "    print(context)\n",
    "    print(\"\\n\")\n",
    "\n"
   ]
  },
  {
   "cell_type": "markdown",
   "id": "5c3885ba-79b7-44cd-af2b-bed99c5566f3",
   "metadata": {},
   "source": [
    "The context above shows the information about vaccine resources. It mentioned that the government had an intention to buy 51m doses of UQ vaccine, however, the UQ vaccine trials were abandoned after participants returned false positive test results for HIV, so the agreement for the 51m doses has been terminated."
   ]
  },
  {
   "cell_type": "markdown",
   "id": "58e99543-b6c8-4058-b5c0-e97b4a200880",
   "metadata": {},
   "source": [
    "## Insight"
   ]
  },
  {
   "cell_type": "markdown",
   "id": "0c287db9-7c5d-40df-97cb-0fad45d6ef6e",
   "metadata": {},
   "source": [
    "According to the contexts above, 'UQ Covid-19 Vaccine' program was one of Australia's important projects, which promoted the development of innovative scientific technologies. It was initially very promising, using an innovative \"clamping\" technology on the spike proteins to induce an immune response. However, major setbacks were encountered during the first clinical trial, participants developed false-positive HIV results, leading to the abandonment of the vaccine trial. Therefore, this program was not successful in the end and the vaccines were not released to the public. Although the government had the intention to purchase 51m doses of vaccines and neighboring Pacific and Southeast Asian countries might be benefited from the invention, its failure in clinical trials terminated the agreement and the subsequent trials. Therefore, it did not cause direct benefit to the international community's vaccination. However, the experimental process has had some impact on society in some aspects.\n",
    "1. Contribution to Innovative Development:\n",
    "Despite its failure to reach the market, the UQ vaccine contributed to vaccine innovation by exploring a new approach of clamping technology for leading immune responses without actual infection. It provides valuable insights for future vaccine development projects.\n",
    "2. Ethical influence:\n",
    "The false-positive HIV results among participants during the clinical trial have caused serious ethical concerns. This issue not only raised ethical considerations regarding the safety and reliability of the experiment but also affected public trust in vaccine production processes, potentially influencing vaccine development. This led to the termination of the later stages.\n",
    "5. Collaboration between industry and academic research:\n",
    "The collaboration of UQ and biotechnology company, CSL promoted communication of scientific research between industry and academia. It is crucial for the innovation of professional techniques and the large-scale production of innovative\n",
    "\n",
    "Due to the confidentiality of experiments and limited public resources, it's difficult to find quantitative data for analysis. However, from the articles in the Guardian website, some evidence still proved the qualitative impact on society. In conclusion, the program did not succeed as expected, but the process is still meaningful and valuable to the development of innovative technology. "
   ]
  }
 ],
 "metadata": {
  "creation_period": "",
  "kernelspec": {
   "display_name": "Python 3 (ipykernel)",
   "language": "python",
   "name": "python3"
  },
  "language_info": {
   "codemirror_mode": {
    "name": "ipython",
    "version": 3
   },
   "file_extension": ".py",
   "mimetype": "text/x-python",
   "name": "python",
   "nbconvert_exporter": "python",
   "pygments_lexer": "ipython3",
   "version": "3.11.7"
  },
  "nb_name": "template",
  "qut": {
   "creation_period": "2023_sem1",
   "nb_name": "template-assignment2",
   "unit_code": "IFN619"
  },
  "unit_code": "",
  "vscode": {
   "interpreter": {
    "hash": "d4d1e4263499bec80672ea0156c357c1ee493ec2b1c70f0acce89fc37c4a6abe"
   }
  }
 },
 "nbformat": 4,
 "nbformat_minor": 5
}
