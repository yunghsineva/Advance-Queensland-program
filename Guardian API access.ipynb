{
 "cells": [
  {
   "attachments": {},
   "cell_type": "markdown",
   "id": "6ef62cbd-2ea0-442e-973e-e50ca1e97fa2",
   "metadata": {
    "cell_name": "header_cell"
   },
   "source": [
    "<div style=\"background:#FFFFEE; color:#440404; padding:8px; border-radius: 4px; text-align: center; font-weight: 500;\">Data Analytics for Strategic Decision Makers</div>"
   ]
  },
  {
   "attachments": {},
   "cell_type": "markdown",
   "id": "ff597d6e-cdac-4d1a-b657-f6d756380ae3",
   "metadata": {
    "cell_name": "title_cell"
   },
   "source": [
    "# Extending Analytics - Guardian API access\n"
   ]
  },
  {
   "cell_type": "markdown",
   "id": "0d4bebaa-0045-456c-ae6f-9fc3e2c8dca4",
   "metadata": {},
   "source": [
    "## Guardian API access"
   ]
  },
  {
   "cell_type": "markdown",
   "id": "af793ccd-8bfe-4225-82ca-270f185a819f",
   "metadata": {},
   "source": [
    "First of all, it is necessary to access Guardian API to search the useful articles which can explain the program."
   ]
  },
  {
   "cell_type": "code",
   "execution_count": 2,
   "id": "0164ac08-8f82-4a86-8e4a-d25fe5c9388d",
   "metadata": {},
   "outputs": [
    {
     "name": "stderr",
     "output_type": "stream",
     "text": [
      "/tmp/ipykernel_2758/1975265229.py:4: DeprecationWarning: \n",
      "Pyarrow will become a required dependency of pandas in the next major release of pandas (pandas 3.0),\n",
      "(to allow more performant data types, such as the Arrow string type, and better interoperability with other libraries)\n",
      "but was not found to be installed on your system.\n",
      "If this would cause problems for you,\n",
      "please provide us feedback at https://github.com/pandas-dev/pandas/issues/54466\n",
      "        \n",
      "  import pandas as pd\n"
     ]
    }
   ],
   "source": [
    "#import required libraries\n",
    "from sklearn.feature_extraction.text import TfidfVectorizer, CountVectorizer\n",
    "from sklearn.decomposition import LatentDirichletAllocation, NMF\n",
    "import pandas as pd\n",
    "import numpy as np\n",
    "import random\n",
    "import requests\n",
    "import json\n",
    "import re\n",
    "import time\n"
   ]
  },
  {
   "cell_type": "code",
   "execution_count": 3,
   "id": "57a35f5e-26f2-4764-b726-b05c73bd254d",
   "metadata": {},
   "outputs": [
    {
     "data": {
      "text/plain": [
       "'9b23a079-34d8-43eb-b5cc-60cf458199f8'"
      ]
     },
     "execution_count": 3,
     "metadata": {},
     "output_type": "execute_result"
    }
   ],
   "source": [
    "#load personal API key\n",
    "with open('KEY/key.txt', 'r') as file:\n",
    "    key = file.read().strip()\n",
    "key"
   ]
  },
  {
   "cell_type": "markdown",
   "id": "14e7e9ae-3c43-41a4-ab6b-f873bbd851f6",
   "metadata": {},
   "source": [
    "To searching the articles related to the topic precisely, I set 'UQ', 'COVID-19 Vaccine' and 'Queensland University' as the keywords, and limited the sources from Australia.  Since the program started in 2020, I filtered the time period from 2020 to 2022 to observe the outcome within three years."
   ]
  },
  {
   "cell_type": "code",
   "execution_count": 4,
   "id": "a3ce39f7-e901-460a-aaaa-954695539ac1",
   "metadata": {},
   "outputs": [
    {
     "name": "stdout",
     "output_type": "stream",
     "text": [
      "https://content.guardianapis.com/search?q=UQ%20AND%20(COVID-19%20Vaccine)%20AND%20(Queensland%20University)&production-office=AUS&from-date=2020-01-01&to-date=2022-12-31&show-fields=body&api-key=9b23a079-34d8-43eb-b5cc-60cf458199f8\n"
     ]
    }
   ],
   "source": [
    "#build a search URL\n",
    "base_url = 'https://content.guardianapis.com/'\n",
    "search_string = \"UQ%20AND%20(COVID-19%20Vaccine)%20AND%20(Queensland%20University)\"\n",
    "production_office = \"AUS\"\n",
    "from_date = \"2020-01-01\"\n",
    "end_date = \"2022-12-31\"\n",
    "\n",
    "full_url = base_url+f\"search?q={search_string}&production-office={production_office}&from-date={from_date}&to-date={end_date}&show-fields=body&api-key={key}\"\n",
    "\n",
    "#url = baseUrl+'\"'+searchString+'\"'+'&production-office='+production_office+'&from-date='+fromDate+'&api-key='+key\n",
    "print(full_url[:500])"
   ]
  },
  {
   "cell_type": "code",
   "execution_count": 5,
   "id": "72acab5b-13ba-4742-9fbf-a46cb2237cab",
   "metadata": {
    "scrolled": true
   },
   "outputs": [
    {
     "name": "stdout",
     "output_type": "stream",
     "text": [
      "SUCCESS!\n",
      "33 results found available in 4 pages\n",
      "10 results per page\n"
     ]
    }
   ],
   "source": [
    "# get data from server\n",
    "server_response = requests.get(full_url)\n",
    "server_data = server_response.json()\n",
    "resp_data = server_data.get('response','')\n",
    "if resp_data == '':\n",
    "    print(\"ERROR obtaining results:\",server_data)\n",
    "else:\n",
    "    print(\"SUCCESS!\")\n",
    "    print(f\"{resp_data['total']} results found available in {resp_data['pages']} pages\")\n",
    "    print(f\"{resp_data['pageSize']} results per page\")\n",
    "    results = resp_data.get('results',[])\n",
    "    "
   ]
  },
  {
   "cell_type": "markdown",
   "id": "98d75cd3-db66-4b54-84c1-5f8b86da9618",
   "metadata": {},
   "source": [
    "The searching result shows there are 33 relative articles in the Guardian sources. Then, the next several steps conducted to organize the data and process JSON response to extract data and write them to a JSON file for further analyze from them."
   ]
  },
  {
   "cell_type": "code",
   "execution_count": 6,
   "id": "ab63a4f4-31f9-4c66-95d3-af0ca004e549",
   "metadata": {},
   "outputs": [],
   "source": [
    "# extract articles from each page\n",
    "def articles_from_page_results(page_results):\n",
    "    articles = {}\n",
    "    for result in page_results:\n",
    "        article_date = result['webPublicationDate']\n",
    "        article_title = result['webTitle']+f\" [{article_date}]\" \n",
    "        article_html = result['fields']['body']\n",
    "        article_text = re.sub(r'<.*?>','',article_html)\n",
    "        articles[article_title] = article_text\n",
    "    return articles"
   ]
  },
  {
   "cell_type": "code",
   "execution_count": 7,
   "id": "5bbc49ca-4b9c-4cba-a88d-c1ec6c1d116f",
   "metadata": {},
   "outputs": [],
   "source": [
    "def get_all_articles_for_response(response_json,full_url):\n",
    "    total_pages = response_json['pages']\n",
    "    total_articles = response_json['total']\n",
    "    print(f\"Fetching {total_articles} articles from {total_pages} pages...\")\n",
    "    all_articles = {}\n",
    "    page1_articles = articles_from_page_results(response_json['results'])\n",
    "    all_articles.update(page1_articles)\n",
    "    print(\"Added articles for page: 1\")\n",
    "    \n",
    "    for page in range(2,total_pages+1):\n",
    "        print(\"Getting articles from API for page:\",page)\n",
    "        page_response = requests.get(full_url+f\"&page={page}\")\n",
    "        page_data = page_response.json()['response']\n",
    "        print(\"Processing results for page:\",page_data['currentPage'])\n",
    "        page_articles = articles_from_page_results(page_data['results'])\n",
    "        print(f\"Fetched {len(page_articles)} articles.\")\n",
    "        all_articles.update(page_articles)\n",
    "        print(\"Added articles for page:\",page)\n",
    "        print(f\"Status: {len(all_articles)} articles.\")\n",
    "        time.sleep(1) # make sure we're not hitting the API to hard\n",
    "    \n",
    "    print(f\"FINISHED: Fetched {len(all_articles)} articles.\")\n",
    "    return all_articles\n"
   ]
  },
  {
   "cell_type": "code",
   "execution_count": 8,
   "id": "5387c76a-32a1-4be9-96d4-d2b54872cd79",
   "metadata": {},
   "outputs": [
    {
     "name": "stdout",
     "output_type": "stream",
     "text": [
      "Fetching 33 articles from 4 pages...\n",
      "Added articles for page: 1\n",
      "Getting articles from API for page: 2\n",
      "Processing results for page: 2\n",
      "Fetched 10 articles.\n",
      "Added articles for page: 2\n",
      "Status: 20 articles.\n",
      "Getting articles from API for page: 3\n",
      "Processing results for page: 3\n",
      "Fetched 10 articles.\n",
      "Added articles for page: 3\n",
      "Status: 30 articles.\n",
      "Getting articles from API for page: 4\n",
      "Processing results for page: 4\n",
      "Fetched 3 articles.\n",
      "Added articles for page: 4\n",
      "Status: 32 articles.\n",
      "FINISHED: Fetched 32 articles.\n"
     ]
    }
   ],
   "source": [
    "my_articles = get_all_articles_for_response(resp_data,full_url)"
   ]
  },
  {
   "cell_type": "code",
   "execution_count": 9,
   "id": "64ea7a61-dcf1-48a6-91ac-2d825b96993b",
   "metadata": {},
   "outputs": [],
   "source": [
    "file_path = 'UA2-YungHsin-n11750804'\n",
    "file_name = \"UQ-COVID19.json\"\n",
    "\n",
    "with open(f\"{file_path}/{file_name}\",'w', encoding='utf-8') as fp:\n",
    "    fp.write(json.dumps(my_articles))\n"
   ]
  }
 ],
 "metadata": {
  "creation_period": "",
  "kernelspec": {
   "display_name": "Python 3 (ipykernel)",
   "language": "python",
   "name": "python3"
  },
  "language_info": {
   "codemirror_mode": {
    "name": "ipython",
    "version": 3
   },
   "file_extension": ".py",
   "mimetype": "text/x-python",
   "name": "python",
   "nbconvert_exporter": "python",
   "pygments_lexer": "ipython3",
   "version": "3.11.7"
  },
  "nb_name": "template",
  "qut": {
   "creation_period": "2023_sem1",
   "nb_name": "template-assignment2",
   "unit_code": "IFN619"
  },
  "unit_code": "",
  "vscode": {
   "interpreter": {
    "hash": "d4d1e4263499bec80672ea0156c357c1ee493ec2b1c70f0acce89fc37c4a6abe"
   }
  }
 },
 "nbformat": 4,
 "nbformat_minor": 5
}
